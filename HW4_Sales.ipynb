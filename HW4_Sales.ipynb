{
 "cells": [
  {
   "cell_type": "code",
   "execution_count": 5,
   "id": "6d8be218",
   "metadata": {},
   "outputs": [
    {
     "name": "stdout",
     "output_type": "stream",
     "text": [
      "What was the number of packages you purchased? 10\n",
      "10\n",
      "Your total comes out to be  990.00\n"
     ]
    }
   ],
   "source": [
    "#A software company sells package that retails for $99. Quantity discounts are given according to the following rate\n",
    "\n",
    "#10-19 !0%\n",
    "#20-49 20%\n",
    "#50-99 30%\n",
    "#100+  40%\n",
    "\n",
    "#Write a program that asks the user to enter the number of packages purchased. \n",
    "# The program should then display the amount of the dicount(if any) and the total \n",
    "#amount of the purchse after the discount \n",
    "\n",
    "discount = 0.0\n",
    "\n",
    "sales_number = int(input(\"What was the number of packages you purchased? \"))\n",
    "original_total_cost = sales_number * 99.0\n",
    "\n",
    "if sales_number>=10 and sales_number <= 19:\n",
    "    print(\"10\")\n",
    "elif sales_number>=20 and sales_number<=49:\n",
    "    print(\"20\")\n",
    "elif sales_number>=50 and sales_number<=99:\n",
    "    print(\"30\")\n",
    "elif sales_number>=100:\n",
    "    print(\"40\")\n",
    "    \n",
    "\n",
    "print(\"Your total comes out to be $\", \"{:.2f}\".format((original_total_cost - (original_total_cost * discount))))\n"
   ]
  },
  {
   "cell_type": "code",
   "execution_count": 7,
   "id": "0a587551",
   "metadata": {},
   "outputs": [
    {
     "name": "stdout",
     "output_type": "stream",
     "text": [
      "What was the weight of packages you are shipping? 2\n",
      "Your total comes out to be $ 3.00\n"
     ]
    }
   ],
   "source": [
    "#The Fast Freight Shipping Company charges the following rates:\n",
    "\n",
    "# 2 pounds or less  $1.50\n",
    "# Over 2 pounds but not more than 6 pounds $3.00\n",
    "# Over 6 pounds but not more than 10 pounds  $4.00\n",
    "#Over 10 pounds $4.75\n",
    "\n",
    "\n",
    "\n",
    "# write a program that asks the user to enter the weight of the a package\n",
    "#then displays the shipping charges.\n",
    "\n",
    "rate_of_shipping = 0.0\n",
    "\n",
    "weight_of_package = int(input(\"What was the weight of packages you are shipping? \"))\n",
    "\n",
    "if weight_of_package <= 2:\n",
    "    rate_of_shipping = 1.5\n",
    "elif weight_of_package > 2 and weight_of_package <= 6:\n",
    "    rate_of_shipping = 3.0 \n",
    "elif weight_of_package > 6 and weight_of_package <= 10:\n",
    "    rate_of_shipping = 4.0\n",
    "elif weight_of_package > 10:\n",
    "    rate_of_shipping = 4.75\n",
    "\n",
    "\n",
    "print(\"Your total comes out to be $\", \"{:.2f}\".format(weight_of_package * rate_of_shipping))\n"
   ]
  },
  {
   "cell_type": "code",
   "execution_count": null,
   "id": "3c87f170",
   "metadata": {},
   "outputs": [],
   "source": []
  }
 ],
 "metadata": {
  "kernelspec": {
   "display_name": "Python 3 (ipykernel)",
   "language": "python",
   "name": "python3"
  },
  "language_info": {
   "codemirror_mode": {
    "name": "ipython",
    "version": 3
   },
   "file_extension": ".py",
   "mimetype": "text/x-python",
   "name": "python",
   "nbconvert_exporter": "python",
   "pygments_lexer": "ipython3",
   "version": "3.8.8"
  }
 },
 "nbformat": 4,
 "nbformat_minor": 5
}
